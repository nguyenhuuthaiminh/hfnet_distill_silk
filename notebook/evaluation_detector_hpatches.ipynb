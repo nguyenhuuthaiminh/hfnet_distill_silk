{
 "cells": [
  {
   "cell_type": "code",
   "execution_count": 1,
   "metadata": {},
   "outputs": [],
   "source": [
    "from config import EXPER_PATH, MODEL_PATH\n",
    "import sys\n",
    "sys.path.append(MODEL_PATH)\n",
    "from model.dataset.hpatches import HpatchesDataset"
   ]
  },
  {
   "cell_type": "code",
   "execution_count": 2,
   "metadata": {},
   "outputs": [],
   "source": [
    "from torch.utils.data import DataLoader\n",
    "\n",
    "import numpy as np\n",
    "import torch\n",
    "\n",
    "from model.hfnet import HFNet\n",
    "\n",
    "from evaluation.keypoint_detectors import evaluate\n",
    "\n",
    "import config as cfg"
   ]
  },
  {
   "cell_type": "code",
   "execution_count": 3,
   "metadata": {},
   "outputs": [],
   "source": [
    "# Load dataset\n",
    "dataset = HpatchesDataset(alteration='all', make_pairs=True, shuffle=True)\n",
    "\n",
    "# Create DataLoader\n",
    "dataloader = DataLoader(dataset, batch_size=1, shuffle=False)"
   ]
  },
  {
   "cell_type": "code",
   "execution_count": 4,
   "metadata": {},
   "outputs": [],
   "source": [
    "EXPER_PATH = EXPER_PATH\n",
    "MODEL_PATH = MODEL_PATH\n",
    "models = { \n",
    "    'silk':{\n",
    "        'hfnet-silk lr =3e-1':'weight/hfnet-silk lr =3e-1/last_model.pth', \n",
    "        },\n",
    "}\n",
    "\n",
    "config_model= {\n",
    "    'image_channels':1,\n",
    "    # 'loss_weights': 'uncertainties',\n",
    "    'loss_weights':{\n",
    "        'global':1,\n",
    "        'local':1,\n",
    "        'detector':1\n",
    "    },\n",
    "    'local_head': {\n",
    "        'scale':2,\n",
    "        'descriptor_dim': 128,\n",
    "        'detector_grid': 8,\n",
    "        'input_channels': 96\n",
    "    },\n",
    "    'global_head': {\n",
    "        'n_clusters': 32,\n",
    "        'intermediate_proj': 0,\n",
    "        'dimensionality_reduction': 4096\n",
    "    }\n",
    "}\n",
    "\n",
    "config = {\n",
    "        'local':{\n",
    "            'nms_radius':4,\n",
    "            'detector_threshold': 0.45,\n",
    "            'num_keypoints': 10000,\n",
    "        },\n",
    "        'do_ratio_test': True,\n",
    "        'correct_match_thresh': 3,\n",
    "        'correct_H_thresh': 3,\n",
    "        'num_features': 300,\n",
    "        # 'do_nms': True,\n",
    "        # 'nms_thresh': 8,\n",
    "        'remove_borders': 4,\n",
    "    }\n",
    "    \n",
    "\n",
    "\n",
    "model = HFNet(config_model, width_mult=0.75)"
   ]
  },
  {
   "cell_type": "code",
   "execution_count": 5,
   "metadata": {},
   "outputs": [
    {
     "name": "stdout",
     "output_type": "stream",
     "text": [
      "silk: hfnet-silk lr =3e-1\n",
      "{'local': {'nms_radius': 4, 'detector_threshold': 0.45, 'num_keypoints': 10000}, 'do_ratio_test': True, 'correct_match_thresh': 3, 'correct_H_thresh': 3, 'num_features': 300, 'remove_borders': 4}\n"
     ]
    },
    {
     "name": "stderr",
     "output_type": "stream",
     "text": [
      "100%|██████████| 580/580 [09:24<00:00,  1.03it/s]"
     ]
    },
    {
     "name": "stdout",
     "output_type": "stream",
     "text": [
      "2025-04-22 17:57:05\n",
      "average_num_keypoints     296.074\n",
      "localization_error        1.504\n",
      "repeatability             0.375\n",
      "mAP                       0.192\n",
      "-----------------------------------\n"
     ]
    },
    {
     "name": "stderr",
     "output_type": "stream",
     "text": [
      "\n"
     ]
    }
   ],
   "source": [
    "import time\n",
    "\n",
    "device = torch.device('cpu')\n",
    "model.to(device)\n",
    "\n",
    "for k,v in models.items():\n",
    "    for kk,vv in v.items():\n",
    "        print(f\"{k}: {kk}\")\n",
    "        print(config)\n",
    "        state_dict = torch.load(MODEL_PATH + vv, weights_only= False ,map_location=device)\n",
    "        model.load_state_dict(state_dict, strict=False)\n",
    "\n",
    "        metrics=evaluate(model, dataloader, config)\n",
    "        \n",
    "\n",
    "        current_time = time.strftime(\"%Y-%m-%d %H:%M:%S\", time.localtime())\n",
    "        print(current_time)\n",
    "\n",
    "        log_file = open('detector.txt', 'a')\n",
    "        log_file.write('\\n[{}]'.format(current_time))\n",
    "        log_file.write('\\n{}: {}'.format(k, kk))\n",
    "        log_file.write('{}\\n'.format(config))\n",
    "\n",
    "\n",
    "        for km, vm in metrics.items():\n",
    "                print('{:<25} {:.3f}'.format(km, vm))\n",
    "\n",
    "                #save in log file\n",
    "                log_file.write('{:<25} :{:.3f}  '.format(km, vm))\n",
    "                log_file.write('\\n')\n",
    "        log_file.flush()\n",
    "        print(\"-----------------------------------\")\n",
    "\n",
    "       "
   ]
  },
  {
   "cell_type": "code",
   "execution_count": null,
   "metadata": {},
   "outputs": [],
   "source": []
  }
 ],
 "metadata": {
  "kernelspec": {
   "display_name": "reproduce",
   "language": "python",
   "name": "python3"
  },
  "language_info": {
   "codemirror_mode": {
    "name": "ipython",
    "version": 3
   },
   "file_extension": ".py",
   "mimetype": "text/x-python",
   "name": "python",
   "nbconvert_exporter": "python",
   "pygments_lexer": "ipython3",
   "version": "3.13.2"
  }
 },
 "nbformat": 4,
 "nbformat_minor": 2
}
